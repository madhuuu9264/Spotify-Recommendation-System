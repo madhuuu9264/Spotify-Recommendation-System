{
 "cells": [
  {
   "cell_type": "code",
   "execution_count": 1,
   "id": "69a1c149",
   "metadata": {},
   "outputs": [
    {
     "name": "stdout",
     "output_type": "stream",
     "text": [
      "Access token obtained successfully.\n"
     ]
    }
   ],
   "source": [
    "import requests\n",
    "import base64\n",
    "\n",
    "CLIENT_ID = 'e923ef017da94c6684a623427e17d377'\n",
    "CLIENT_SECRET = '11283a104ab54e2884ec0ac75fa41a34'\n",
    "\n",
    "client_credentials = f\"{CLIENT_ID}:{CLIENT_SECRET}\"\n",
    "client_credentials_base64 = base64.b64encode(client_credentials.encode())\n",
    "\n",
    "token_url = 'https://accounts.spotify.com/api/token'\n",
    "headers = {\n",
    "    'Authorization': f'Basic {client_credentials_base64.decode()}'\n",
    "}\n",
    "data = {\n",
    "    'grant_type': 'client_credentials'\n",
    "}\n",
    "response = requests.post(token_url, data=data, headers=headers)\n",
    "\n",
    "if response.status_code == 200:\n",
    "    access_token = response.json()['access_token']\n",
    "    print(\"Access token obtained successfully.\")\n",
    "else:\n",
    "    print(\"Error obtaining access token.\")\n",
    "    exit()"
   ]
  },
  {
   "cell_type": "code",
   "execution_count": 2,
   "id": "268b2b21",
   "metadata": {},
   "outputs": [
    {
     "name": "stdout",
     "output_type": "stream",
     "text": [
      "Requirement already satisfied: spotipy in d:\\anaconda\\lib\\site-packages (2.24.0)\n",
      "Requirement already satisfied: redis>=3.5.3 in d:\\anaconda\\lib\\site-packages (from spotipy) (5.0.7)\n",
      "Requirement already satisfied: requests>=2.25.0 in d:\\anaconda\\lib\\site-packages (from spotipy) (2.31.0)\n",
      "Requirement already satisfied: urllib3>=1.26.0 in d:\\anaconda\\lib\\site-packages (from spotipy) (1.26.16)\n",
      "Requirement already satisfied: charset-normalizer<4,>=2 in d:\\anaconda\\lib\\site-packages (from requests>=2.25.0->spotipy) (2.0.4)\n",
      "Requirement already satisfied: idna<4,>=2.5 in d:\\anaconda\\lib\\site-packages (from requests>=2.25.0->spotipy) (3.4)\n",
      "Requirement already satisfied: certifi>=2017.4.17 in d:\\anaconda\\lib\\site-packages (from requests>=2.25.0->spotipy) (2023.7.22)\n"
     ]
    }
   ],
   "source": [
    "!pip install spotipy"
   ]
  },
  {
   "cell_type": "code",
   "execution_count": 4,
   "id": "0b7915aa",
   "metadata": {},
   "outputs": [
    {
     "name": "stdout",
     "output_type": "stream",
     "text": [
      "                                  Track Name  \\\n",
      "0                                Not Like Us   \n",
      "1                                    Houdini   \n",
      "2                         I Don't Wanna Wait   \n",
      "3                 BAND4BAND (feat. Lil Baby)   \n",
      "4                                      Pedro   \n",
      "..                                       ...   \n",
      "227                                 Tere Bin   \n",
      "228                               Tu Chahiye   \n",
      "229             Aabaad Barbaad (From \"Ludo\")   \n",
      "230                             Jag Ghoomeya   \n",
      "231  Tumhe Kitna Pyaar Karte (From \"Bawaal\")   \n",
      "\n",
      "                                               Artists  \\\n",
      "0                                       Kendrick Lamar   \n",
      "1                                               Eminem   \n",
      "2                            David Guetta, OneRepublic   \n",
      "3                                Central Cee, Lil Baby   \n",
      "4              Jaxomy, Agatino Romero, Raffaella Carrà   \n",
      "..                                                 ...   \n",
      "227   Rahat Fateh Ali Khan, Asees Kaur, Tanishk Bagchi   \n",
      "228                                 Pritam, Atif Aslam   \n",
      "229                               Pritam, Arijit Singh   \n",
      "230  Vishal-Shekhar, Rahat Fateh Ali Khan, Irshad K...   \n",
      "231             Mithoon, Arijit Singh, Manoj Muntashir   \n",
      "\n",
      "                                  Album Name                Album ID  \\\n",
      "0                                Not Like Us  5JjnoGJyOxfSZUZtk2rRwZ   \n",
      "1                                    Houdini  6Xuu2z00jxRPZei4IJ9neK   \n",
      "2                         I Don't Wanna Wait  0wCLHkBRKcndhMQQpeo8Ji   \n",
      "3                 BAND4BAND (feat. Lil Baby)  4AzPr5SUpNF553eC1d3aRy   \n",
      "4                                      Pedro  5y6RXjI5VPR0RyInghTbf1   \n",
      "..                                       ...                     ...   \n",
      "227                                   Simmba  3dynRTuVOrAr5O7srr2txN   \n",
      "228                        Bajrangi Bhaijaan  4nZOPP0atfJbBlkedLYi7t   \n",
      "229             Aabaad Barbaad (From \"Ludo\")  1PzsfgcbPbiW7uflc9Zi5Z   \n",
      "230                                   Sultan  0tAi6H8acUKefYMIEuxcMA   \n",
      "231  Tumhe Kitna Pyaar Karte (From \"Bawaal\")  20zQZcEhMLsDUn1LhPCEFY   \n",
      "\n",
      "                   Track ID  Popularity Release Date  Duration (ms)  Explicit  \\\n",
      "0    6AI3ezQ4o3HUoP6Dhudph3          97   2024-05-04         274192      True   \n",
      "1    2HYFX63wP3otVIvopRS99Z          92   2024-05-31         227239      True   \n",
      "2    331l3xABO0HMr1Kkyh2LZq          91   2024-04-05         149668     False   \n",
      "3    7iabz12vAuVQYyekFIWJxD          91   2024-05-23         140733      True   \n",
      "4    48lxT5qJF0yYyf2z4wB4xW          88   2024-03-29         144846     False   \n",
      "..                      ...         ...          ...            ...       ...   \n",
      "227  4Y1Sd0fSSxHEMrWkd2x3EW          57   2018-12-27         230948     False   \n",
      "228  3aaiAWCet6sbfOfLSn3g7i          67   2015-07-07         272680     False   \n",
      "229  0hFUtSsV2itYEUTZGj6w5H          58   2020-10-21         309103     False   \n",
      "230  4KCbZcshgibfJSCAkg87Lv          63   2016-05-31         281992     False   \n",
      "231  03hJuEQpEQERrHpjcXKWzJ          64   2023-07-07         305232     False   \n",
      "\n",
      "                                         External URLs  ...  Energy  Key  \\\n",
      "0    https://open.spotify.com/track/6AI3ezQ4o3HUoP6...  ...   0.472    1   \n",
      "1    https://open.spotify.com/track/2HYFX63wP3otVIv...  ...   0.887    9   \n",
      "2    https://open.spotify.com/track/331l3xABO0HMr1K...  ...   0.714    1   \n",
      "3    https://open.spotify.com/track/7iabz12vAuVQYye...  ...   0.764   11   \n",
      "4    https://open.spotify.com/track/48lxT5qJF0yYyf2...  ...   0.936    9   \n",
      "..                                                 ...  ...     ...  ...   \n",
      "227  https://open.spotify.com/track/4Y1Sd0fSSxHEMrW...  ...   0.716    7   \n",
      "228  https://open.spotify.com/track/3aaiAWCet6sbfOf...  ...   0.744    7   \n",
      "229  https://open.spotify.com/track/0hFUtSsV2itYEUT...  ...   0.522    7   \n",
      "230  https://open.spotify.com/track/4KCbZcshgibfJSC...  ...   0.565   11   \n",
      "231  https://open.spotify.com/track/03hJuEQpEQERrHp...  ...   0.374   10   \n",
      "\n",
      "     Loudness  Mode  Speechiness  Acousticness  Instrumentalness  Liveness  \\\n",
      "0      -7.001     1       0.0776        0.0107          0.000000    0.1410   \n",
      "1      -2.760     0       0.0683        0.0292          0.000002    0.0582   \n",
      "2      -4.617     0       0.0309        0.0375          0.000000    0.2320   \n",
      "3      -5.241     1       0.2040        0.3590          0.000000    0.1190   \n",
      "4      -6.294     1       0.3010        0.0229          0.000001    0.3110   \n",
      "..        ...   ...          ...           ...               ...       ...   \n",
      "227    -3.936     1       0.0384        0.2680          0.000005    0.6030   \n",
      "228    -5.817     1       0.0446        0.4030          0.000000    0.0853   \n",
      "229    -5.857     1       0.0317        0.6860          0.000000    0.4100   \n",
      "230    -7.954     1       0.0347        0.4790          0.000002    0.1050   \n",
      "231    -9.849     0       0.0328        0.9240          0.000008    0.0840   \n",
      "\n",
      "     Valence    Tempo  \n",
      "0      0.214  101.061  \n",
      "1      0.889  127.003  \n",
      "2      0.554  129.976  \n",
      "3      0.886  140.113  \n",
      "4      0.844  151.019  \n",
      "..       ...      ...  \n",
      "227    0.639   86.949  \n",
      "228    0.415  134.068  \n",
      "229    0.628  118.001  \n",
      "230    0.607   82.653  \n",
      "231    0.388  101.855  \n",
      "\n",
      "[232 rows x 21 columns]\n"
     ]
    }
   ],
   "source": [
    "import pandas as pd\n",
    "import spotipy\n",
    "from spotipy.oauth2 import SpotifyOAuth\n",
    "\n",
    "def get_trending_playlists_data(playlist_ids, access_token):\n",
    "    sp = spotipy.Spotify(auth=access_token)\n",
    "\n",
    "    all_music_data = []\n",
    "\n",
    "    for playlist_id in playlist_ids:\n",
    "        playlist_tracks = sp.playlist_tracks(playlist_id, fields='items(track(id, name, artists, album(id, name)))')\n",
    "\n",
    "        for track_info in playlist_tracks['items']:\n",
    "            track = track_info['track']\n",
    "            track_name = track['name']\n",
    "            artists = ', '.join([artist['name'] for artist in track['artists']])\n",
    "            album_name = track['album']['name']\n",
    "            album_id = track['album']['id']\n",
    "            track_id = track['id']\n",
    "\n",
    "            audio_features = sp.audio_features(track_id)[0] if track_id != 'Not available' else None\n",
    "\n",
    "            try:\n",
    "                album_info = sp.album(album_id) if album_id != 'Not available' else None\n",
    "                release_date = album_info['release_date'] if album_info else None\n",
    "            except:\n",
    "                release_date = None\n",
    "\n",
    "            try:\n",
    "                track_info = sp.track(track_id) if track_id != 'Not available' else None\n",
    "                popularity = track_info['popularity'] if track_info else None\n",
    "            except:\n",
    "                popularity = None\n",
    "\n",
    "            track_data = {\n",
    "                'Track Name': track_name,\n",
    "                'Artists': artists,\n",
    "                'Album Name': album_name,\n",
    "                'Album ID': album_id,\n",
    "                'Track ID': track_id,\n",
    "                'Popularity': popularity,\n",
    "                'Release Date': release_date,\n",
    "                'Duration (ms)': audio_features['duration_ms'] if audio_features else None,\n",
    "                'Explicit': track_info.get('explicit', None),\n",
    "                'External URLs': track_info.get('external_urls', {}).get('spotify', None),\n",
    "                'Danceability': audio_features['danceability'] if audio_features else None,\n",
    "                'Energy': audio_features['energy'] if audio_features else None,\n",
    "                'Key': audio_features['key'] if audio_features else None,\n",
    "                'Loudness': audio_features['loudness'] if audio_features else None,\n",
    "                'Mode': audio_features['mode'] if audio_features else None,\n",
    "                'Speechiness': audio_features['speechiness'] if audio_features else None,\n",
    "                'Acousticness': audio_features['acousticness'] if audio_features else None,\n",
    "                'Instrumentalness': audio_features['instrumentalness'] if audio_features else None,\n",
    "                'Liveness': audio_features['liveness'] if audio_features else None,\n",
    "                'Valence': audio_features['valence'] if audio_features else None,\n",
    "                'Tempo': audio_features['tempo'] if audio_features else None,\n",
    "            }\n",
    "\n",
    "            all_music_data.append(track_data)\n",
    "\n",
    "    df = pd.DataFrame(all_music_data)\n",
    "\n",
    "    return df\n",
    "\n",
    "playlist_ids = ['37i9dQZF1DX76Wlfdnj7AP', '0W3jWYa1sQm5U8Ds4E8hfK', '37i9dQZF1DXdpQPPZq3F7n']\n",
    "\n",
    "music_df = get_trending_playlists_data(playlist_ids, access_token)\n",
    "\n",
    "print(music_df)"
   ]
  },
  {
   "cell_type": "code",
   "execution_count": 5,
   "id": "195a81b3",
   "metadata": {},
   "outputs": [
    {
     "name": "stdout",
     "output_type": "stream",
     "text": [
      "Track Name          0\n",
      "Artists             0\n",
      "Album Name          0\n",
      "Album ID            0\n",
      "Track ID            0\n",
      "Popularity          0\n",
      "Release Date        0\n",
      "Duration (ms)       0\n",
      "Explicit            0\n",
      "External URLs       0\n",
      "Danceability        0\n",
      "Energy              0\n",
      "Key                 0\n",
      "Loudness            0\n",
      "Mode                0\n",
      "Speechiness         0\n",
      "Acousticness        0\n",
      "Instrumentalness    0\n",
      "Liveness            0\n",
      "Valence             0\n",
      "Tempo               0\n",
      "dtype: int64\n"
     ]
    }
   ],
   "source": [
    "print(music_df.isnull().sum())"
   ]
  },
  {
   "cell_type": "code",
   "execution_count": 6,
   "id": "414eafb0",
   "metadata": {},
   "outputs": [
    {
     "name": "stdout",
     "output_type": "stream",
     "text": [
      "Index(['Track Name', 'Artists', 'Album Name', 'Album ID', 'Track ID',\n",
      "       'Popularity', 'Release Date', 'Duration (ms)', 'Explicit',\n",
      "       'External URLs', 'Danceability', 'Energy', 'Key', 'Loudness', 'Mode',\n",
      "       'Speechiness', 'Acousticness', 'Instrumentalness', 'Liveness',\n",
      "       'Valence', 'Tempo'],\n",
      "      dtype='object')\n"
     ]
    }
   ],
   "source": [
    "print(music_df.columns)"
   ]
  },
  {
   "cell_type": "code",
   "execution_count": 7,
   "id": "84a65d75",
   "metadata": {},
   "outputs": [],
   "source": [
    "music_df.to_csv(\"Spotify_data.csv\")"
   ]
  },
  {
   "cell_type": "code",
   "execution_count": 8,
   "id": "f6f31fcf",
   "metadata": {},
   "outputs": [
    {
     "name": "stdout",
     "output_type": "stream",
     "text": [
      "<class 'pandas.core.frame.DataFrame'>\n",
      "RangeIndex: 232 entries, 0 to 231\n",
      "Data columns (total 21 columns):\n",
      " #   Column            Non-Null Count  Dtype  \n",
      "---  ------            --------------  -----  \n",
      " 0   Track Name        232 non-null    object \n",
      " 1   Artists           232 non-null    object \n",
      " 2   Album Name        232 non-null    object \n",
      " 3   Album ID          232 non-null    object \n",
      " 4   Track ID          232 non-null    object \n",
      " 5   Popularity        232 non-null    int64  \n",
      " 6   Release Date      232 non-null    object \n",
      " 7   Duration (ms)     232 non-null    int64  \n",
      " 8   Explicit          232 non-null    bool   \n",
      " 9   External URLs     232 non-null    object \n",
      " 10  Danceability      232 non-null    float64\n",
      " 11  Energy            232 non-null    float64\n",
      " 12  Key               232 non-null    int64  \n",
      " 13  Loudness          232 non-null    float64\n",
      " 14  Mode              232 non-null    int64  \n",
      " 15  Speechiness       232 non-null    float64\n",
      " 16  Acousticness      232 non-null    float64\n",
      " 17  Instrumentalness  232 non-null    float64\n",
      " 18  Liveness          232 non-null    float64\n",
      " 19  Valence           232 non-null    float64\n",
      " 20  Tempo             232 non-null    float64\n",
      "dtypes: bool(1), float64(9), int64(4), object(7)\n",
      "memory usage: 36.6+ KB\n",
      "None\n"
     ]
    }
   ],
   "source": [
    "print(music_df.info())"
   ]
  },
  {
   "cell_type": "code",
   "execution_count": 9,
   "id": "8dd84c7c",
   "metadata": {},
   "outputs": [],
   "source": [
    "import pandas as pd\n",
    "import numpy as np\n",
    "from sklearn.model_selection import train_test_split\n",
    "from sklearn.preprocessing import MinMaxScaler\n",
    "from datetime import datetime\n",
    "from sklearn.metrics.pairwise import cosine_similarity"
   ]
  },
  {
   "cell_type": "code",
   "execution_count": 10,
   "id": "0a4d7541",
   "metadata": {},
   "outputs": [],
   "source": [
    "data = music_df"
   ]
  },
  {
   "cell_type": "code",
   "execution_count": 11,
   "id": "83b84f30",
   "metadata": {},
   "outputs": [],
   "source": [
    "def calculate_weighted_popularity(release_date):\n",
    "    release_date = datetime.strptime(release_date, '%Y-%m-%d')\n",
    "\n",
    "    time_span = datetime.now() - release_date\n",
    "\n",
    "    weight = 1 / (time_span.days + 1)\n",
    "    return weight"
   ]
  },
  {
   "cell_type": "code",
   "execution_count": 12,
   "id": "c18e71e2",
   "metadata": {},
   "outputs": [],
   "source": [
    "scaler = MinMaxScaler()\n",
    "music_features = music_df[['Danceability', 'Energy', 'Key',\n",
    "                           'Loudness', 'Mode', 'Speechiness', 'Acousticness',\n",
    "                           'Instrumentalness', 'Liveness', 'Valence', 'Tempo']].values\n",
    "music_features_scaled = scaler.fit_transform(music_features)"
   ]
  },
  {
   "cell_type": "code",
   "execution_count": 13,
   "id": "0b5f3df5",
   "metadata": {},
   "outputs": [],
   "source": [
    "def content_based_recommendations(input_song_name, num_recommendations=5):\n",
    "    if input_song_name not in music_df['Track Name'].values:\n",
    "        print(f\"'{input_song_name}' not found in the dataset. Please enter a valid song name.\")\n",
    "        return\n",
    "\n",
    "    input_song_index = music_df[music_df['Track Name'] == input_song_name].index[0]\n",
    "\n",
    "    similarity_scores = cosine_similarity([music_features_scaled[input_song_index]], music_features_scaled)\n",
    "\n",
    "    similar_song_indices = similarity_scores.argsort()[0][::-1][1:num_recommendations + 1]\n",
    "\n",
    "    content_based_recommendations = music_df.iloc[similar_song_indices][['Track Name', 'Artists', 'Album Name', 'Release Date', 'Popularity']]\n",
    "\n",
    "    return content_based_recommendations"
   ]
  },
  {
   "cell_type": "code",
   "execution_count": 14,
   "id": "da5b9099",
   "metadata": {},
   "outputs": [
    {
     "name": "stdout",
     "output_type": "stream",
     "text": [
      "Hybrid recommended songs for 'I'm Good (Blue)':\n",
      "                     Track Name                                     Artists  \\\n",
      "3  It's Not Right But It's Okay                            Mr. Belt & Wezol   \n",
      "0                   In My Bones             Lost Frequencies, David Kushner   \n",
      "1                         REACT  Switch Disco, Ella Henderson, Robert Miles   \n",
      "4         Rainfall (Praise You)                                   Tom Santa   \n",
      "2                 Where You Are                          John Summit, HAYLA   \n",
      "\n",
      "                     Album Name Release Date  Popularity  \n",
      "3  It's Not Right But It's Okay   2024-02-23        83.0  \n",
      "0                   In My Bones   2024-04-19        74.0  \n",
      "1                         REACT   2023-01-13        74.0  \n",
      "4         Rainfall (Praise You)   2022-02-18        74.0  \n",
      "2                 Where You Are   2023-03-03        71.0  \n"
     ]
    }
   ],
   "source": [
    "import pandas as pd\n",
    "\n",
    "def hybrid_recommendations(input_song_name, num_recommendations=5, alpha=0.5):\n",
    "    if input_song_name not in music_df['Track Name'].values:\n",
    "        print(f\"'{input_song_name}' not found in the dataset. Please enter a valid song name.\")\n",
    "        return\n",
    "\n",
    "    content_based_rec = content_based_recommendations(input_song_name, num_recommendations)\n",
    "\n",
    "    popularity_score = music_df.loc[music_df['Track Name'] == input_song_name, 'Popularity'].values[0]\n",
    "\n",
    "    weighted_popularity_score = popularity_score * calculate_weighted_popularity(\n",
    "        music_df.loc[music_df['Track Name'] == input_song_name, 'Release Date'].values[0]\n",
    "    )\n",
    "\n",
    "    new_entry = pd.DataFrame({\n",
    "        'Track Name': [input_song_name],\n",
    "        'Artists': [music_df.loc[music_df['Track Name'] == input_song_name, 'Artists'].values[0]],\n",
    "        'Album Name': [music_df.loc[music_df['Track Name'] == input_song_name, 'Album Name'].values[0]],\n",
    "        'Release Date': [music_df.loc[music_df['Track Name'] == input_song_name, 'Release Date'].values[0]],\n",
    "        'Popularity': [weighted_popularity_score]\n",
    "    })\n",
    "\n",
    "    hybrid_recommendations = pd.concat([content_based_rec, new_entry], ignore_index=True)\n",
    "\n",
    "    hybrid_recommendations = hybrid_recommendations.sort_values(by='Popularity', ascending=False)\n",
    "\n",
    "    hybrid_recommendations = hybrid_recommendations[hybrid_recommendations['Track Name'] != input_song_name]\n",
    "\n",
    "    return hybrid_recommendations\n",
    "\n",
    "input_song_name = \"I'm Good (Blue)\"\n",
    "recommendations = hybrid_recommendations(input_song_name, num_recommendations=5)\n",
    "print(f\"Hybrid recommended songs for '{input_song_name}':\")\n",
    "print(recommendations)"
   ]
  },
  {
   "cell_type": "code",
   "execution_count": 16,
   "id": "6038ec8d",
   "metadata": {},
   "outputs": [
    {
     "name": "stdout",
     "output_type": "stream",
     "text": [
      "Recommended songs for 'I'm Good (Blue)':\n",
      "                     Track Name                                     Artists  \\\n",
      "3  It's Not Right But It's Okay                            Mr. Belt & Wezol   \n",
      "0                   In My Bones             Lost Frequencies, David Kushner   \n",
      "1                         REACT  Switch Disco, Ella Henderson, Robert Miles   \n",
      "4         Rainfall (Praise You)                                   Tom Santa   \n",
      "2                 Where You Are                          John Summit, HAYLA   \n",
      "\n",
      "                     Album Name Release Date  Popularity  \n",
      "3  It's Not Right But It's Okay   2024-02-23        83.0  \n",
      "0                   In My Bones   2024-04-19        74.0  \n",
      "1                         REACT   2023-01-13        74.0  \n",
      "4         Rainfall (Praise You)   2022-02-18        74.0  \n",
      "2                 Where You Are   2023-03-03        71.0  \n"
     ]
    }
   ],
   "source": [
    "input_song_name = \"I'm Good (Blue)\"\n",
    "recommendations = hybrid_recommendations(input_song_name, num_recommendations=5)\n",
    "print(f\"Recommended songs for '{input_song_name}':\")\n",
    "print(recommendations)"
   ]
  },
  {
   "cell_type": "code",
   "execution_count": null,
   "id": "4a70fed9",
   "metadata": {},
   "outputs": [],
   "source": []
  }
 ],
 "metadata": {
  "kernelspec": {
   "display_name": "Python 3 (ipykernel)",
   "language": "python",
   "name": "python3"
  },
  "language_info": {
   "codemirror_mode": {
    "name": "ipython",
    "version": 3
   },
   "file_extension": ".py",
   "mimetype": "text/x-python",
   "name": "python",
   "nbconvert_exporter": "python",
   "pygments_lexer": "ipython3",
   "version": "3.11.5"
  }
 },
 "nbformat": 4,
 "nbformat_minor": 5
}
